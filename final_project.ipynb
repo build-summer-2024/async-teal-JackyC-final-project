{
 "cells": [
  {
   "cell_type": "code",
   "execution_count": 25,
   "metadata": {},
   "outputs": [
    {
     "data": {
      "text/html": [
       "<div>\n",
       "<style scoped>\n",
       "    .dataframe tbody tr th:only-of-type {\n",
       "        vertical-align: middle;\n",
       "    }\n",
       "\n",
       "    .dataframe tbody tr th {\n",
       "        vertical-align: top;\n",
       "    }\n",
       "\n",
       "    .dataframe thead th {\n",
       "        text-align: right;\n",
       "    }\n",
       "</style>\n",
       "<table border=\"1\" class=\"dataframe\">\n",
       "  <thead>\n",
       "    <tr style=\"text-align: right;\">\n",
       "      <th></th>\n",
       "      <th>Breed</th>\n",
       "      <th>Age (Years)</th>\n",
       "      <th>Weight (kg)</th>\n",
       "      <th>Color</th>\n",
       "      <th>Gender</th>\n",
       "    </tr>\n",
       "  </thead>\n",
       "  <tbody>\n",
       "    <tr>\n",
       "      <th>0</th>\n",
       "      <td>Russian Blue</td>\n",
       "      <td>19</td>\n",
       "      <td>7</td>\n",
       "      <td>Tortoiseshell</td>\n",
       "      <td>Female</td>\n",
       "    </tr>\n",
       "    <tr>\n",
       "      <th>1</th>\n",
       "      <td>Norwegian Forest</td>\n",
       "      <td>19</td>\n",
       "      <td>9</td>\n",
       "      <td>Tortoiseshell</td>\n",
       "      <td>Female</td>\n",
       "    </tr>\n",
       "    <tr>\n",
       "      <th>2</th>\n",
       "      <td>Chartreux</td>\n",
       "      <td>3</td>\n",
       "      <td>3</td>\n",
       "      <td>Brown</td>\n",
       "      <td>Female</td>\n",
       "    </tr>\n",
       "    <tr>\n",
       "      <th>3</th>\n",
       "      <td>Persian</td>\n",
       "      <td>13</td>\n",
       "      <td>6</td>\n",
       "      <td>Sable</td>\n",
       "      <td>Female</td>\n",
       "    </tr>\n",
       "    <tr>\n",
       "      <th>4</th>\n",
       "      <td>Ragdoll</td>\n",
       "      <td>10</td>\n",
       "      <td>8</td>\n",
       "      <td>Tabby</td>\n",
       "      <td>Male</td>\n",
       "    </tr>\n",
       "  </tbody>\n",
       "</table>\n",
       "</div>"
      ],
      "text/plain": [
       "              Breed  Age (Years)  Weight (kg)          Color  Gender\n",
       "0      Russian Blue           19            7  Tortoiseshell  Female\n",
       "1  Norwegian Forest           19            9  Tortoiseshell  Female\n",
       "2         Chartreux            3            3          Brown  Female\n",
       "3           Persian           13            6          Sable  Female\n",
       "4           Ragdoll           10            8          Tabby    Male"
      ]
     },
     "execution_count": 25,
     "metadata": {},
     "output_type": "execute_result"
    }
   ],
   "source": [
    "import pandas\n",
    "import seaborn\n",
    "import matplotlib.pyplot as plt\n",
    "\n",
    "##Data Set: https://www.kaggle.com/datasets/waqi786/cats-dataset\n",
    "url = \"cats_dataset.csv\"\n",
    "\n",
    "cat_data = pandas.read_csv(url, sep = ',')\n",
    "cat_data.head()\n"
   ]
  },
  {
   "cell_type": "code",
   "execution_count": 40,
   "metadata": {},
   "outputs": [
    {
     "name": "stdout",
     "output_type": "stream",
     "text": [
      "6.0\n"
     ]
    }
   ],
   "source": [
    "#Average Weight\n",
    "avg_weight = cat_data[\"Weight (kg)\"].median()\n",
    "print(avg_weight)\n"
   ]
  },
  {
   "cell_type": "code",
   "execution_count": 58,
   "metadata": {},
   "outputs": [
    {
     "data": {
      "text/plain": [
       "Breed\n",
       "Abyssinian            5.0\n",
       "American Shorthair    6.0\n",
       "Balinese              5.0\n",
       "Bengal                5.0\n",
       "Birman                6.0\n",
       "British Shorthair     6.0\n",
       "Burmese               5.0\n",
       "Chartreux             5.0\n",
       "Cornish Rex           6.0\n",
       "Devon Rex             5.0\n",
       "Egyptian Mau          6.0\n",
       "Exotic Shorthair      6.0\n",
       "Himalayan             7.0\n",
       "Maine Coon            6.0\n",
       "Manx                  6.0\n",
       "Munchkin              6.0\n",
       "Norwegian Forest      5.0\n",
       "Ocicat                6.0\n",
       "Oriental              5.0\n",
       "Persian               5.0\n",
       "Ragdoll               5.0\n",
       "Russian Blue          5.0\n",
       "Savannah              5.0\n",
       "Scottish Fold         6.0\n",
       "Siamese               6.0\n",
       "Siberian              6.0\n",
       "Singapura             6.0\n",
       "Sphynx                5.5\n",
       "Tonkinese             5.0\n",
       "Turkish Angora        6.0\n",
       "Name: Weight (kg), dtype: float64"
      ]
     },
     "execution_count": 58,
     "metadata": {},
     "output_type": "execute_result"
    }
   ],
   "source": [
    "#unique_breeds=cat_data[\"Breed\"].unique()\n",
    "weight_cats = cat_data.groupby(\"Breed\")[\"Weight (kg)\"].median()\n",
    "weight_cats\n"
   ]
  },
  {
   "cell_type": "code",
   "execution_count": 56,
   "metadata": {},
   "outputs": [
    {
     "data": {
      "text/plain": [
       "Gender\n",
       "Female    2.175279\n",
       "Male      2.276602\n",
       "Name: Weight (kg), dtype: float64"
      ]
     },
     "execution_count": 56,
     "metadata": {},
     "output_type": "execute_result"
    }
   ],
   "source": [
    "gender_std = cat_data.groupby(\"Gender\")[\"Weight (kg)\"].std()\n",
    "gender_std"
   ]
  },
  {
   "cell_type": "code",
   "execution_count": 61,
   "metadata": {},
   "outputs": [
    {
     "data": {
      "text/plain": [
       "Breed\n",
       "Abyssinian            19\n",
       "American Shorthair    19\n",
       "Balinese              18\n",
       "Bengal                19\n",
       "Birman                19\n",
       "British Shorthair     19\n",
       "Burmese               19\n",
       "Chartreux             19\n",
       "Cornish Rex           19\n",
       "Devon Rex             19\n",
       "Egyptian Mau          19\n",
       "Exotic Shorthair      19\n",
       "Himalayan             18\n",
       "Maine Coon            19\n",
       "Manx                  19\n",
       "Munchkin              19\n",
       "Norwegian Forest      19\n",
       "Ocicat                19\n",
       "Oriental              18\n",
       "Persian               19\n",
       "Ragdoll               19\n",
       "Russian Blue          19\n",
       "Savannah              19\n",
       "Scottish Fold         19\n",
       "Siamese               19\n",
       "Siberian              19\n",
       "Singapura             17\n",
       "Sphynx                19\n",
       "Tonkinese             19\n",
       "Turkish Angora        19\n",
       "Name: Age (Years), dtype: int64"
      ]
     },
     "execution_count": 61,
     "metadata": {},
     "output_type": "execute_result"
    }
   ],
   "source": [
    "oldest = cat_data.groupby(\"Breed\")[\"Age (Years)\"].max()\n",
    "oldest"
   ]
  },
  {
   "cell_type": "code",
   "execution_count": 77,
   "metadata": {},
   "outputs": [
    {
     "data": {
      "text/plain": [
       "'Tricolor'"
      ]
     },
     "execution_count": 77,
     "metadata": {},
     "output_type": "execute_result"
    }
   ],
   "source": [
    "common_color = cat_data[\"Color\"]\n",
    "unique_colors = common_color.unique()\n",
    "max = 0\n",
    "color = \"\"\n",
    "for i in unique_colors:\n",
    "    count = 0\n",
    "    for j in common_color:\n",
    "        if j == i:\n",
    "            count += 1\n",
    "    if count > max:\n",
    "        max = count\n",
    "        color = i\n",
    "color"
   ]
  },
  {
   "cell_type": "code",
   "execution_count": 78,
   "metadata": {},
   "outputs": [
    {
     "data": {
      "text/plain": [
       "'Ragdoll'"
      ]
     },
     "execution_count": 78,
     "metadata": {},
     "output_type": "execute_result"
    }
   ],
   "source": [
    "common_breed = cat_data[\"Breed\"]\n",
    "unique_breeds = common_breed.unique()\n",
    "max = 0\n",
    "breed = \"\"\n",
    "for i in unique_breeds:\n",
    "    count = 0\n",
    "    for j in common_breed:\n",
    "        if j == i:\n",
    "            count += 1\n",
    "    if count > max:\n",
    "        max = count\n",
    "        breed = i\n",
    "breed"
   ]
  },
  {
   "cell_type": "code",
   "execution_count": 82,
   "metadata": {},
   "outputs": [
    {
     "data": {
      "text/plain": [
       "Age (Years)\n",
       "1     5.0\n",
       "2     6.0\n",
       "3     5.0\n",
       "4     6.0\n",
       "5     6.0\n",
       "6     6.0\n",
       "7     6.0\n",
       "8     5.0\n",
       "9     6.0\n",
       "10    5.0\n",
       "11    5.0\n",
       "12    6.0\n",
       "13    5.0\n",
       "14    5.5\n",
       "15    6.0\n",
       "16    5.5\n",
       "17    5.0\n",
       "18    6.0\n",
       "19    6.0\n",
       "Name: Weight (kg), dtype: float64"
      ]
     },
     "execution_count": 82,
     "metadata": {},
     "output_type": "execute_result"
    }
   ],
   "source": [
    "age_cats = cat_data.groupby(\"Age (Years)\")[\"Weight (kg)\"].median()\n",
    "age_cats"
   ]
  },
  {
   "cell_type": "code",
   "execution_count": 95,
   "metadata": {},
   "outputs": [
    {
     "data": {
      "text/plain": [
       "Color\n",
       "Bicolor          5.0\n",
       "Black            5.0\n",
       "Blue             6.0\n",
       "Brown            5.5\n",
       "Calico           6.0\n",
       "Cream            5.0\n",
       "Gray             6.0\n",
       "Orange           5.0\n",
       "Pointed          6.0\n",
       "Red              6.0\n",
       "Sable            7.0\n",
       "Tabby            5.0\n",
       "Tortoiseshell    5.0\n",
       "Tricolor         5.0\n",
       "White            6.0\n",
       "Name: Weight (kg), dtype: float64"
      ]
     },
     "execution_count": 95,
     "metadata": {},
     "output_type": "execute_result"
    }
   ],
   "source": [
    "bitri_cats = cat_data.groupby(\"Color\")[\"Weight (kg)\"].median()\n",
    "bitri_cats"
   ]
  },
  {
   "cell_type": "code",
   "execution_count": 112,
   "metadata": {},
   "outputs": [
    {
     "data": {
      "text/plain": [
       "'Russian Blue'"
      ]
     },
     "execution_count": 112,
     "metadata": {},
     "output_type": "execute_result"
    }
   ],
   "source": [
    "breed_color = cat_data.groupby(\"Breed\")[\"Color\"]\n",
    "max = 0\n",
    "breedC = \"\"\n",
    "for i in unique_breeds:\n",
    "    count = 0\n",
    "    for j in unique_colors:\n",
    "        if j != \"Bicolor\" or j != \"Tricolor\":\n",
    "            count+=1\n",
    "    if count > max:\n",
    "        max = count\n",
    "        breedC = i\n",
    "breedC"
   ]
  }
 ],
 "metadata": {
  "kernelspec": {
   "display_name": "Python 3",
   "language": "python",
   "name": "python3"
  },
  "language_info": {
   "codemirror_mode": {
    "name": "ipython",
    "version": 3
   },
   "file_extension": ".py",
   "mimetype": "text/x-python",
   "name": "python",
   "nbconvert_exporter": "python",
   "pygments_lexer": "ipython3",
   "version": "3.11.7"
  }
 },
 "nbformat": 4,
 "nbformat_minor": 2
}
